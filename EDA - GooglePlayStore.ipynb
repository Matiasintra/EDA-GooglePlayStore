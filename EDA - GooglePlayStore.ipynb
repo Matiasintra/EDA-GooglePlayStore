{
 "cells": [
  {
   "cell_type": "markdown",
   "id": "8f89319c",
   "metadata": {},
   "source": [
    "# Analisis Exploratorio de Datos (EDA) con datos de Google Play Store Apps"
   ]
  },
  {
   "cell_type": "code",
   "execution_count": 1,
   "id": "f9105fdc",
   "metadata": {},
   "outputs": [],
   "source": [
    "#Datos\n",
    "import pandas as pd\n",
    "import numpy as np\n",
    "#Gráficos\n",
    "import matplotlib.pyplot as plt\n",
    "import seaborn as sns\n",
    "import warnings\n",
    "warnings.filterwarnings('ignore')"
   ]
  },
  {
   "cell_type": "markdown",
   "id": "3055f699",
   "metadata": {},
   "source": [
    "### Dataset de Kaggle\n",
    "\n",
    "El set de datos utilizado se encuentra en:\n",
    "\n",
    "https://www.kaggle.com/lava18/google-play-store-apps"
   ]
  },
  {
   "cell_type": "code",
   "execution_count": 4,
   "id": "f07d1664",
   "metadata": {},
   "outputs": [
    {
     "data": {
      "text/html": [
       "<div>\n",
       "<style scoped>\n",
       "    .dataframe tbody tr th:only-of-type {\n",
       "        vertical-align: middle;\n",
       "    }\n",
       "\n",
       "    .dataframe tbody tr th {\n",
       "        vertical-align: top;\n",
       "    }\n",
       "\n",
       "    .dataframe thead th {\n",
       "        text-align: right;\n",
       "    }\n",
       "</style>\n",
       "<table border=\"1\" class=\"dataframe\">\n",
       "  <thead>\n",
       "    <tr style=\"text-align: right;\">\n",
       "      <th></th>\n",
       "      <th>App</th>\n",
       "      <th>Category</th>\n",
       "      <th>Rating</th>\n",
       "      <th>Reviews</th>\n",
       "      <th>Size</th>\n",
       "      <th>Installs</th>\n",
       "      <th>Type</th>\n",
       "      <th>Price</th>\n",
       "      <th>Content Rating</th>\n",
       "      <th>Genres</th>\n",
       "      <th>Last Updated</th>\n",
       "      <th>Current Ver</th>\n",
       "      <th>Android Ver</th>\n",
       "    </tr>\n",
       "  </thead>\n",
       "  <tbody>\n",
       "    <tr>\n",
       "      <th>0</th>\n",
       "      <td>Photo Editor &amp; Candy Camera &amp; Grid &amp; ScrapBook</td>\n",
       "      <td>ART_AND_DESIGN</td>\n",
       "      <td>4.1</td>\n",
       "      <td>159</td>\n",
       "      <td>19M</td>\n",
       "      <td>10,000+</td>\n",
       "      <td>Free</td>\n",
       "      <td>0</td>\n",
       "      <td>Everyone</td>\n",
       "      <td>Art &amp; Design</td>\n",
       "      <td>January 7, 2018</td>\n",
       "      <td>1.0.0</td>\n",
       "      <td>4.0.3 and up</td>\n",
       "    </tr>\n",
       "    <tr>\n",
       "      <th>1</th>\n",
       "      <td>Coloring book moana</td>\n",
       "      <td>ART_AND_DESIGN</td>\n",
       "      <td>3.9</td>\n",
       "      <td>967</td>\n",
       "      <td>14M</td>\n",
       "      <td>500,000+</td>\n",
       "      <td>Free</td>\n",
       "      <td>0</td>\n",
       "      <td>Everyone</td>\n",
       "      <td>Art &amp; Design;Pretend Play</td>\n",
       "      <td>January 15, 2018</td>\n",
       "      <td>2.0.0</td>\n",
       "      <td>4.0.3 and up</td>\n",
       "    </tr>\n",
       "    <tr>\n",
       "      <th>2</th>\n",
       "      <td>U Launcher Lite – FREE Live Cool Themes, Hide ...</td>\n",
       "      <td>ART_AND_DESIGN</td>\n",
       "      <td>4.7</td>\n",
       "      <td>87510</td>\n",
       "      <td>8.7M</td>\n",
       "      <td>5,000,000+</td>\n",
       "      <td>Free</td>\n",
       "      <td>0</td>\n",
       "      <td>Everyone</td>\n",
       "      <td>Art &amp; Design</td>\n",
       "      <td>August 1, 2018</td>\n",
       "      <td>1.2.4</td>\n",
       "      <td>4.0.3 and up</td>\n",
       "    </tr>\n",
       "    <tr>\n",
       "      <th>3</th>\n",
       "      <td>Sketch - Draw &amp; Paint</td>\n",
       "      <td>ART_AND_DESIGN</td>\n",
       "      <td>4.5</td>\n",
       "      <td>215644</td>\n",
       "      <td>25M</td>\n",
       "      <td>50,000,000+</td>\n",
       "      <td>Free</td>\n",
       "      <td>0</td>\n",
       "      <td>Teen</td>\n",
       "      <td>Art &amp; Design</td>\n",
       "      <td>June 8, 2018</td>\n",
       "      <td>Varies with device</td>\n",
       "      <td>4.2 and up</td>\n",
       "    </tr>\n",
       "    <tr>\n",
       "      <th>4</th>\n",
       "      <td>Pixel Draw - Number Art Coloring Book</td>\n",
       "      <td>ART_AND_DESIGN</td>\n",
       "      <td>4.3</td>\n",
       "      <td>967</td>\n",
       "      <td>2.8M</td>\n",
       "      <td>100,000+</td>\n",
       "      <td>Free</td>\n",
       "      <td>0</td>\n",
       "      <td>Everyone</td>\n",
       "      <td>Art &amp; Design;Creativity</td>\n",
       "      <td>June 20, 2018</td>\n",
       "      <td>1.1</td>\n",
       "      <td>4.4 and up</td>\n",
       "    </tr>\n",
       "    <tr>\n",
       "      <th>5</th>\n",
       "      <td>Paper flowers instructions</td>\n",
       "      <td>ART_AND_DESIGN</td>\n",
       "      <td>4.4</td>\n",
       "      <td>167</td>\n",
       "      <td>5.6M</td>\n",
       "      <td>50,000+</td>\n",
       "      <td>Free</td>\n",
       "      <td>0</td>\n",
       "      <td>Everyone</td>\n",
       "      <td>Art &amp; Design</td>\n",
       "      <td>March 26, 2017</td>\n",
       "      <td>1.0</td>\n",
       "      <td>2.3 and up</td>\n",
       "    </tr>\n",
       "    <tr>\n",
       "      <th>6</th>\n",
       "      <td>Smoke Effect Photo Maker - Smoke Editor</td>\n",
       "      <td>ART_AND_DESIGN</td>\n",
       "      <td>3.8</td>\n",
       "      <td>178</td>\n",
       "      <td>19M</td>\n",
       "      <td>50,000+</td>\n",
       "      <td>Free</td>\n",
       "      <td>0</td>\n",
       "      <td>Everyone</td>\n",
       "      <td>Art &amp; Design</td>\n",
       "      <td>April 26, 2018</td>\n",
       "      <td>1.1</td>\n",
       "      <td>4.0.3 and up</td>\n",
       "    </tr>\n",
       "    <tr>\n",
       "      <th>7</th>\n",
       "      <td>Infinite Painter</td>\n",
       "      <td>ART_AND_DESIGN</td>\n",
       "      <td>4.1</td>\n",
       "      <td>36815</td>\n",
       "      <td>29M</td>\n",
       "      <td>1,000,000+</td>\n",
       "      <td>Free</td>\n",
       "      <td>0</td>\n",
       "      <td>Everyone</td>\n",
       "      <td>Art &amp; Design</td>\n",
       "      <td>June 14, 2018</td>\n",
       "      <td>6.1.61.1</td>\n",
       "      <td>4.2 and up</td>\n",
       "    </tr>\n",
       "    <tr>\n",
       "      <th>8</th>\n",
       "      <td>Garden Coloring Book</td>\n",
       "      <td>ART_AND_DESIGN</td>\n",
       "      <td>4.4</td>\n",
       "      <td>13791</td>\n",
       "      <td>33M</td>\n",
       "      <td>1,000,000+</td>\n",
       "      <td>Free</td>\n",
       "      <td>0</td>\n",
       "      <td>Everyone</td>\n",
       "      <td>Art &amp; Design</td>\n",
       "      <td>September 20, 2017</td>\n",
       "      <td>2.9.2</td>\n",
       "      <td>3.0 and up</td>\n",
       "    </tr>\n",
       "    <tr>\n",
       "      <th>9</th>\n",
       "      <td>Kids Paint Free - Drawing Fun</td>\n",
       "      <td>ART_AND_DESIGN</td>\n",
       "      <td>4.7</td>\n",
       "      <td>121</td>\n",
       "      <td>3.1M</td>\n",
       "      <td>10,000+</td>\n",
       "      <td>Free</td>\n",
       "      <td>0</td>\n",
       "      <td>Everyone</td>\n",
       "      <td>Art &amp; Design;Creativity</td>\n",
       "      <td>July 3, 2018</td>\n",
       "      <td>2.8</td>\n",
       "      <td>4.0.3 and up</td>\n",
       "    </tr>\n",
       "  </tbody>\n",
       "</table>\n",
       "</div>"
      ],
      "text/plain": [
       "                                                 App        Category  Rating  \\\n",
       "0     Photo Editor & Candy Camera & Grid & ScrapBook  ART_AND_DESIGN     4.1   \n",
       "1                                Coloring book moana  ART_AND_DESIGN     3.9   \n",
       "2  U Launcher Lite – FREE Live Cool Themes, Hide ...  ART_AND_DESIGN     4.7   \n",
       "3                              Sketch - Draw & Paint  ART_AND_DESIGN     4.5   \n",
       "4              Pixel Draw - Number Art Coloring Book  ART_AND_DESIGN     4.3   \n",
       "5                         Paper flowers instructions  ART_AND_DESIGN     4.4   \n",
       "6            Smoke Effect Photo Maker - Smoke Editor  ART_AND_DESIGN     3.8   \n",
       "7                                   Infinite Painter  ART_AND_DESIGN     4.1   \n",
       "8                               Garden Coloring Book  ART_AND_DESIGN     4.4   \n",
       "9                      Kids Paint Free - Drawing Fun  ART_AND_DESIGN     4.7   \n",
       "\n",
       "  Reviews  Size     Installs  Type Price Content Rating  \\\n",
       "0     159   19M      10,000+  Free     0       Everyone   \n",
       "1     967   14M     500,000+  Free     0       Everyone   \n",
       "2   87510  8.7M   5,000,000+  Free     0       Everyone   \n",
       "3  215644   25M  50,000,000+  Free     0           Teen   \n",
       "4     967  2.8M     100,000+  Free     0       Everyone   \n",
       "5     167  5.6M      50,000+  Free     0       Everyone   \n",
       "6     178   19M      50,000+  Free     0       Everyone   \n",
       "7   36815   29M   1,000,000+  Free     0       Everyone   \n",
       "8   13791   33M   1,000,000+  Free     0       Everyone   \n",
       "9     121  3.1M      10,000+  Free     0       Everyone   \n",
       "\n",
       "                      Genres        Last Updated         Current Ver  \\\n",
       "0               Art & Design     January 7, 2018               1.0.0   \n",
       "1  Art & Design;Pretend Play    January 15, 2018               2.0.0   \n",
       "2               Art & Design      August 1, 2018               1.2.4   \n",
       "3               Art & Design        June 8, 2018  Varies with device   \n",
       "4    Art & Design;Creativity       June 20, 2018                 1.1   \n",
       "5               Art & Design      March 26, 2017                 1.0   \n",
       "6               Art & Design      April 26, 2018                 1.1   \n",
       "7               Art & Design       June 14, 2018            6.1.61.1   \n",
       "8               Art & Design  September 20, 2017               2.9.2   \n",
       "9    Art & Design;Creativity        July 3, 2018                 2.8   \n",
       "\n",
       "    Android Ver  \n",
       "0  4.0.3 and up  \n",
       "1  4.0.3 and up  \n",
       "2  4.0.3 and up  \n",
       "3    4.2 and up  \n",
       "4    4.4 and up  \n",
       "5    2.3 and up  \n",
       "6  4.0.3 and up  \n",
       "7    4.2 and up  \n",
       "8    3.0 and up  \n",
       "9  4.0.3 and up  "
      ]
     },
     "execution_count": 4,
     "metadata": {},
     "output_type": "execute_result"
    }
   ],
   "source": [
    "# Apertura de mi Dataframe\n",
    "google_df = pd.read_csv('googleplaystore.csv')\n",
    "google_df.head(10)"
   ]
  },
  {
   "cell_type": "code",
   "execution_count": 5,
   "id": "b6023e0d",
   "metadata": {},
   "outputs": [
    {
     "name": "stdout",
     "output_type": "stream",
     "text": [
      "Dimension:  (10841, 13)\n",
      "Número de filas: 10841\n",
      "Número de columnas: 13\n"
     ]
    },
    {
     "data": {
      "text/html": [
       "<div>\n",
       "<style scoped>\n",
       "    .dataframe tbody tr th:only-of-type {\n",
       "        vertical-align: middle;\n",
       "    }\n",
       "\n",
       "    .dataframe tbody tr th {\n",
       "        vertical-align: top;\n",
       "    }\n",
       "\n",
       "    .dataframe thead th {\n",
       "        text-align: right;\n",
       "    }\n",
       "</style>\n",
       "<table border=\"1\" class=\"dataframe\">\n",
       "  <thead>\n",
       "    <tr style=\"text-align: right;\">\n",
       "      <th></th>\n",
       "      <th>App</th>\n",
       "      <th>Category</th>\n",
       "      <th>Rating</th>\n",
       "      <th>Reviews</th>\n",
       "      <th>Size</th>\n",
       "      <th>Installs</th>\n",
       "      <th>Type</th>\n",
       "      <th>Price</th>\n",
       "      <th>Content Rating</th>\n",
       "      <th>Genres</th>\n",
       "      <th>Last Updated</th>\n",
       "      <th>Current Ver</th>\n",
       "      <th>Android Ver</th>\n",
       "    </tr>\n",
       "  </thead>\n",
       "  <tbody>\n",
       "    <tr>\n",
       "      <th>0</th>\n",
       "      <td>Photo Editor &amp; Candy Camera &amp; Grid &amp; ScrapBook</td>\n",
       "      <td>ART_AND_DESIGN</td>\n",
       "      <td>4.1</td>\n",
       "      <td>159</td>\n",
       "      <td>19M</td>\n",
       "      <td>10,000+</td>\n",
       "      <td>Free</td>\n",
       "      <td>0</td>\n",
       "      <td>Everyone</td>\n",
       "      <td>Art &amp; Design</td>\n",
       "      <td>January 7, 2018</td>\n",
       "      <td>1.0.0</td>\n",
       "      <td>4.0.3 and up</td>\n",
       "    </tr>\n",
       "    <tr>\n",
       "      <th>1</th>\n",
       "      <td>Coloring book moana</td>\n",
       "      <td>ART_AND_DESIGN</td>\n",
       "      <td>3.9</td>\n",
       "      <td>967</td>\n",
       "      <td>14M</td>\n",
       "      <td>500,000+</td>\n",
       "      <td>Free</td>\n",
       "      <td>0</td>\n",
       "      <td>Everyone</td>\n",
       "      <td>Art &amp; Design;Pretend Play</td>\n",
       "      <td>January 15, 2018</td>\n",
       "      <td>2.0.0</td>\n",
       "      <td>4.0.3 and up</td>\n",
       "    </tr>\n",
       "    <tr>\n",
       "      <th>2</th>\n",
       "      <td>U Launcher Lite – FREE Live Cool Themes, Hide ...</td>\n",
       "      <td>ART_AND_DESIGN</td>\n",
       "      <td>4.7</td>\n",
       "      <td>87510</td>\n",
       "      <td>8.7M</td>\n",
       "      <td>5,000,000+</td>\n",
       "      <td>Free</td>\n",
       "      <td>0</td>\n",
       "      <td>Everyone</td>\n",
       "      <td>Art &amp; Design</td>\n",
       "      <td>August 1, 2018</td>\n",
       "      <td>1.2.4</td>\n",
       "      <td>4.0.3 and up</td>\n",
       "    </tr>\n",
       "    <tr>\n",
       "      <th>3</th>\n",
       "      <td>Sketch - Draw &amp; Paint</td>\n",
       "      <td>ART_AND_DESIGN</td>\n",
       "      <td>4.5</td>\n",
       "      <td>215644</td>\n",
       "      <td>25M</td>\n",
       "      <td>50,000,000+</td>\n",
       "      <td>Free</td>\n",
       "      <td>0</td>\n",
       "      <td>Teen</td>\n",
       "      <td>Art &amp; Design</td>\n",
       "      <td>June 8, 2018</td>\n",
       "      <td>Varies with device</td>\n",
       "      <td>4.2 and up</td>\n",
       "    </tr>\n",
       "    <tr>\n",
       "      <th>4</th>\n",
       "      <td>Pixel Draw - Number Art Coloring Book</td>\n",
       "      <td>ART_AND_DESIGN</td>\n",
       "      <td>4.3</td>\n",
       "      <td>967</td>\n",
       "      <td>2.8M</td>\n",
       "      <td>100,000+</td>\n",
       "      <td>Free</td>\n",
       "      <td>0</td>\n",
       "      <td>Everyone</td>\n",
       "      <td>Art &amp; Design;Creativity</td>\n",
       "      <td>June 20, 2018</td>\n",
       "      <td>1.1</td>\n",
       "      <td>4.4 and up</td>\n",
       "    </tr>\n",
       "  </tbody>\n",
       "</table>\n",
       "</div>"
      ],
      "text/plain": [
       "                                                 App        Category  Rating  \\\n",
       "0     Photo Editor & Candy Camera & Grid & ScrapBook  ART_AND_DESIGN     4.1   \n",
       "1                                Coloring book moana  ART_AND_DESIGN     3.9   \n",
       "2  U Launcher Lite – FREE Live Cool Themes, Hide ...  ART_AND_DESIGN     4.7   \n",
       "3                              Sketch - Draw & Paint  ART_AND_DESIGN     4.5   \n",
       "4              Pixel Draw - Number Art Coloring Book  ART_AND_DESIGN     4.3   \n",
       "\n",
       "  Reviews  Size     Installs  Type Price Content Rating  \\\n",
       "0     159   19M      10,000+  Free     0       Everyone   \n",
       "1     967   14M     500,000+  Free     0       Everyone   \n",
       "2   87510  8.7M   5,000,000+  Free     0       Everyone   \n",
       "3  215644   25M  50,000,000+  Free     0           Teen   \n",
       "4     967  2.8M     100,000+  Free     0       Everyone   \n",
       "\n",
       "                      Genres      Last Updated         Current Ver  \\\n",
       "0               Art & Design   January 7, 2018               1.0.0   \n",
       "1  Art & Design;Pretend Play  January 15, 2018               2.0.0   \n",
       "2               Art & Design    August 1, 2018               1.2.4   \n",
       "3               Art & Design      June 8, 2018  Varies with device   \n",
       "4    Art & Design;Creativity     June 20, 2018                 1.1   \n",
       "\n",
       "    Android Ver  \n",
       "0  4.0.3 and up  \n",
       "1  4.0.3 and up  \n",
       "2  4.0.3 and up  \n",
       "3    4.2 and up  \n",
       "4    4.4 and up  "
      ]
     },
     "execution_count": 5,
     "metadata": {},
     "output_type": "execute_result"
    }
   ],
   "source": [
    "# Verifico las dimensiones de mi dataframe\n",
    "print(f'Dimension:  {np.shape(google_df)}')\n",
    "\n",
    "filas = np.shape(google_df)[0] # [0] para la primera dimension\n",
    "print(f'Número de filas: {filas}')\n",
    "\n",
    "columnas = np.shape(google_df)[1] # [1] para la segunda dimension\n",
    "print(f'Número de columnas: {columnas}')\n",
    "\n",
    "google_df.head(5)"
   ]
  },
  {
   "cell_type": "code",
   "execution_count": 6,
   "id": "0801b09e",
   "metadata": {},
   "outputs": [
    {
     "data": {
      "text/plain": [
       "array(['App', 'Category', 'Rating', 'Reviews', 'Size', 'Installs', 'Type',\n",
       "       'Price', 'Content Rating', 'Genres', 'Last Updated', 'Current Ver',\n",
       "       'Android Ver'], dtype=object)"
      ]
     },
     "execution_count": 6,
     "metadata": {},
     "output_type": "execute_result"
    }
   ],
   "source": [
    "# Revisión del nombre de todas mis columnas\n",
    "nombre_columnas = google_df.columns.values\n",
    "nombre_columnas"
   ]
  },
  {
   "cell_type": "markdown",
   "id": "39c3d943",
   "metadata": {},
   "source": [
    "### Limpieza de datos"
   ]
  },
  {
   "cell_type": "code",
   "execution_count": 7,
   "id": "beff4efb",
   "metadata": {},
   "outputs": [],
   "source": [
    "# Elimino los valores repetidos en la columna 'App', conservando unicamente el primero.\n",
    "google_df.drop_duplicates(subset='App', inplace=True, keep='first')"
   ]
  },
  {
   "cell_type": "code",
   "execution_count": 8,
   "id": "e1bd490f",
   "metadata": {},
   "outputs": [
    {
     "name": "stdout",
     "output_type": "stream",
     "text": [
      "Valores únicos en Installs: 22\n",
      "['10,000+' '500,000+' '5,000,000+' '50,000,000+' '100,000+' '50,000+'\n",
      " '1,000,000+' '10,000,000+' '5,000+' '100,000,000+' '1,000,000,000+'\n",
      " '1,000+' '500,000,000+' '50+' '100+' '500+' '10+' '1+' '5+' '0+' '0'\n",
      " 'Free']\n",
      "Type:  <class 'str'>\n"
     ]
    }
   ],
   "source": [
    "# Verifico los registros para la variable 'Installs'\n",
    "q_installs = len(google_df['Installs'].unique())\n",
    "print (\"Valores únicos en Installs:\", q_installs)\n",
    "print (google_df['Installs'].unique())\n",
    "print(\"Type: \", type(google_df['Installs'].unique()[0]))"
   ]
  },
  {
   "cell_type": "markdown",
   "id": "60abaff2",
   "metadata": {},
   "source": [
    "Observamos 2 simbolos de la celda anterior que debemos eliminar para poder usar el dato como número y no como cadena de texto, y un string \"Free\" en algun registro que está mal cargado.\n",
    "\n",
    "Entonces debemos:\n",
    "\n",
    "• Conservar los registros que tengan en la colmna 'Install' distinto (!=) a 'Free'\n",
    "\n",
    "• Reemplazaar/eliminar los simbolos \"+\" y \",\"\n",
    "\n",
    "• Cambiar el formato string a int"
   ]
  },
  {
   "cell_type": "code",
   "execution_count": 9,
   "id": "3fac4218",
   "metadata": {},
   "outputs": [
    {
     "data": {
      "text/plain": [
       "9660"
      ]
     },
     "execution_count": 9,
     "metadata": {},
     "output_type": "execute_result"
    }
   ],
   "source": [
    "Filas_pre = np.shape(google_df)[0] \n",
    "Filas_pre"
   ]
  },
  {
   "cell_type": "markdown",
   "id": "1c5bbf4c",
   "metadata": {},
   "source": [
    "#### 'Installs'"
   ]
  },
  {
   "cell_type": "code",
   "execution_count": 10,
   "id": "eecdd03c",
   "metadata": {},
   "outputs": [
    {
     "name": "stdout",
     "output_type": "stream",
     "text": [
      "Filas: 9659\n"
     ]
    }
   ],
   "source": [
    "google_df = google_df[google_df['Installs'] != 'Free']\n",
    "Filas_post = np.shape(google_df)[0]\n",
    "print(f'Filas: {Filas_post}')"
   ]
  },
  {
   "cell_type": "code",
   "execution_count": 11,
   "id": "a195c194",
   "metadata": {},
   "outputs": [],
   "source": [
    "# Sustitución de los simbolos\n",
    "google_df['Installs'] = google_df['Installs'].str.replace(',','')\n",
    "google_df['Installs'] = google_df['Installs'].str.replace('+','')"
   ]
  },
  {
   "cell_type": "code",
   "execution_count": 12,
   "id": "694f417d",
   "metadata": {},
   "outputs": [
    {
     "name": "stdout",
     "output_type": "stream",
     "text": [
      "<class 'pandas.core.series.Series'>\n",
      "Int64Index: 9659 entries, 0 to 10840\n",
      "Series name: Installs\n",
      "Non-Null Count  Dtype \n",
      "--------------  ----- \n",
      "9659 non-null   object\n",
      "dtypes: object(1)\n",
      "memory usage: 150.9+ KB\n"
     ]
    }
   ],
   "source": [
    "google_df['Installs'].info()"
   ]
  },
  {
   "cell_type": "code",
   "execution_count": 13,
   "id": "d3608374",
   "metadata": {},
   "outputs": [
    {
     "name": "stdout",
     "output_type": "stream",
     "text": [
      "<class 'pandas.core.series.Series'>\n",
      "Int64Index: 9659 entries, 0 to 10840\n",
      "Series name: Installs\n",
      "Non-Null Count  Dtype\n",
      "--------------  -----\n",
      "9659 non-null   int32\n",
      "dtypes: int32(1)\n",
      "memory usage: 113.2 KB\n"
     ]
    }
   ],
   "source": [
    "# Sustitución del formato\n",
    "google_df = google_df.astype({\"Installs\": int})\n",
    "google_df['Installs'].info()"
   ]
  },
  {
   "cell_type": "code",
   "execution_count": 14,
   "id": "2977e191",
   "metadata": {},
   "outputs": [
    {
     "name": "stdout",
     "output_type": "stream",
     "text": [
      "En total hay 20 labels de Install\r\n",
      "\n",
      "\n",
      "[     10000     500000    5000000   50000000     100000      50000\n",
      "    1000000   10000000       5000  100000000 1000000000       1000\n",
      "  500000000         50        100        500         10          1\n",
      "          5          0]\n",
      "Type:  <class 'numpy.int32'>\n"
     ]
    }
   ],
   "source": [
    "q_installs = len(google_df['Installs'].unique())\n",
    "print(f'En total hay {q_installs} labels de Install\\r\\n\\n')\n",
    "print(google_df['Installs'].unique())\n",
    "print(\"Type: \", type(google_df['Installs'].unique()[0]))"
   ]
  },
  {
   "cell_type": "markdown",
   "id": "28b27b36",
   "metadata": {},
   "source": [
    "#### 'Size'"
   ]
  },
  {
   "cell_type": "code",
   "execution_count": 15,
   "id": "629d2a58",
   "metadata": {},
   "outputs": [
    {
     "name": "stdout",
     "output_type": "stream",
     "text": [
      "En total hay 461 tipos de valores en \"Size\"\r\n",
      "\n",
      "\n",
      " ['19M' '14M' '8.7M' '25M' '2.8M' '5.6M' '29M' '33M' '3.1M' '28M' '12M'\n",
      " '20M' '21M' '37M' '2.7M' '5.5M' '17M' '39M' '31M' '4.2M' '7.0M' '23M'\n",
      " '6.0M' '6.1M' '4.6M' '9.2M' '5.2M' '11M' '24M' 'Varies with device'\n",
      " '9.4M' '15M' '10M' '1.2M' '26M' '8.0M' '7.9M' '56M' '57M' '35M' '54M'\n",
      " '201k' '3.6M' '5.7M' '8.6M' '2.4M' '27M' '2.5M' '16M' '3.4M' '8.9M'\n",
      " '3.9M' '2.9M' '38M' '32M' '5.4M' '18M' '1.1M' '2.2M' '4.5M' '9.8M' '52M'\n",
      " '9.0M' '6.7M' '30M' '2.6M' '7.1M' '3.7M' '22M' '7.4M' '6.4M' '3.2M'\n",
      " '8.2M' '9.9M' '4.9M' '9.5M' '5.0M' '5.9M' '13M' '73M' '6.8M' '3.5M'\n",
      " '4.0M' '2.3M' '7.2M' '2.1M' '42M' '7.3M' '9.1M' '55M' '23k' '6.5M' '1.5M'\n",
      " '7.5M' '51M' '41M' '48M' '8.5M' '46M' '8.3M' '4.3M' '4.7M' '3.3M' '40M'\n",
      " '7.8M' '8.8M' '6.6M' '5.1M' '61M' '66M' '79k' '8.4M' '118k' '44M' '695k'\n",
      " '1.6M' '6.2M' '18k' '53M' '1.4M' '3.0M' '5.8M' '3.8M' '9.6M' '45M' '63M'\n",
      " '49M' '77M' '4.4M' '4.8M' '70M' '6.9M' '9.3M' '10.0M' '8.1M' '36M' '84M'\n",
      " '97M' '2.0M' '1.9M' '1.8M' '5.3M' '47M' '556k' '526k' '76M' '7.6M' '59M'\n",
      " '9.7M' '78M' '72M' '43M' '7.7M' '6.3M' '334k' '34M' '93M' '65M' '79M'\n",
      " '100M' '58M' '50M' '68M' '64M' '67M' '60M' '94M' '232k' '99M' '624k'\n",
      " '95M' '8.5k' '41k' '292k' '11k' '80M' '1.7M' '74M' '62M' '69M' '75M'\n",
      " '98M' '85M' '82M' '96M' '87M' '71M' '86M' '91M' '81M' '92M' '83M' '88M'\n",
      " '704k' '862k' '899k' '378k' '266k' '375k' '1.3M' '975k' '980k' '4.1M'\n",
      " '89M' '696k' '544k' '525k' '920k' '779k' '853k' '720k' '713k' '772k'\n",
      " '318k' '58k' '241k' '196k' '857k' '51k' '953k' '865k' '251k' '930k'\n",
      " '540k' '313k' '746k' '203k' '26k' '314k' '239k' '371k' '220k' '730k'\n",
      " '756k' '91k' '293k' '17k' '74k' '14k' '317k' '78k' '924k' '902k' '818k'\n",
      " '81k' '939k' '169k' '45k' '475k' '965k' '90M' '545k' '61k' '283k' '655k'\n",
      " '714k' '93k' '872k' '121k' '322k' '1.0M' '976k' '172k' '238k' '549k'\n",
      " '206k' '954k' '444k' '717k' '210k' '609k' '308k' '705k' '306k' '904k'\n",
      " '473k' '175k' '350k' '383k' '454k' '421k' '70k' '812k' '442k' '842k'\n",
      " '417k' '412k' '459k' '478k' '335k' '782k' '721k' '430k' '429k' '192k'\n",
      " '200k' '460k' '728k' '496k' '816k' '414k' '506k' '887k' '613k' '243k'\n",
      " '569k' '778k' '683k' '592k' '319k' '186k' '840k' '647k' '191k' '373k'\n",
      " '437k' '598k' '716k' '585k' '982k' '222k' '219k' '55k' '948k' '323k'\n",
      " '691k' '511k' '951k' '963k' '25k' '554k' '351k' '27k' '82k' '208k' '913k'\n",
      " '514k' '551k' '29k' '103k' '898k' '743k' '116k' '153k' '209k' '353k'\n",
      " '499k' '173k' '597k' '809k' '122k' '411k' '400k' '801k' '787k' '237k'\n",
      " '50k' '643k' '986k' '97k' '516k' '837k' '780k' '961k' '269k' '20k' '498k'\n",
      " '600k' '749k' '642k' '881k' '72k' '656k' '601k' '221k' '228k' '108k'\n",
      " '940k' '176k' '33k' '663k' '34k' '942k' '259k' '164k' '458k' '245k'\n",
      " '629k' '28k' '288k' '775k' '785k' '636k' '916k' '994k' '309k' '485k'\n",
      " '914k' '903k' '608k' '500k' '54k' '562k' '847k' '957k' '688k' '811k'\n",
      " '270k' '48k' '329k' '523k' '921k' '874k' '981k' '784k' '280k' '24k'\n",
      " '518k' '754k' '892k' '154k' '860k' '364k' '387k' '626k' '161k' '879k'\n",
      " '39k' '970k' '170k' '141k' '160k' '144k' '143k' '190k' '376k' '193k'\n",
      " '246k' '73k' '658k' '992k' '253k' '420k' '404k' '470k' '226k' '240k'\n",
      " '89k' '234k' '257k' '861k' '467k' '157k' '44k' '676k' '67k' '552k' '885k'\n",
      " '1020k' '582k' '619k']\n",
      "Filas: 9659\n"
     ]
    }
   ],
   "source": [
    "# La variable 'Size' no está presentado uniformemente\n",
    "q_size = len(google_df['Size'].unique()) # Cantidad de valores unicos en 'Size'\n",
    "print(f'En total hay {q_size} tipos de valores en \"Size\"\\r\\n')\n",
    "print(\"\\n\", google_df['Size'].unique())\n",
    "filas = np.shape(google_df)[0]\n",
    "print(f'Filas: {filas}')"
   ]
  },
  {
   "cell_type": "markdown",
   "id": "46bef412",
   "metadata": {},
   "source": [
    "En dicha columna observamos problemas de unidades, en algunos casos tenemos el tamaño en Megabytes (M) y en otras en Kilobytes (k), y algunos valores con el texto \"Varies with device\".\n",
    "\n",
    "Entonces:\n",
    "\n",
    "• Reemplazamos los valores 'Varies with device' por NaN's.\n",
    "\n",
    "\n",
    "• Separamos los numeros que esten en formato texto y guardarlos en formato numerico. Ademas, homogeinizaremos el tamaño a 'M'. Para eso, extraeremos y reemplazaremos los caracteres 'k' y 'M'. \n",
    "\n",
    "\n",
    "• Finalmente, los NaN's correspondiente a los valores \"Varies with device\", vamos a reemplazarlos por la media de cada categoria, para eliminar la menor cantidad de registros. "
   ]
  },
  {
   "cell_type": "code",
   "execution_count": 16,
   "id": "ae2a71ef",
   "metadata": {},
   "outputs": [],
   "source": [
    "# Reemplazo esos valores que no me sirven por NA\n",
    "google_df['Size'].replace('Varies with device', np.nan, inplace = True)\n"
   ]
  },
  {
   "cell_type": "code",
   "execution_count": 17,
   "id": "85e71666",
   "metadata": {},
   "outputs": [
    {
     "name": "stdout",
     "output_type": "stream",
     "text": [
      "0        19.0\n",
      "1        14.0\n",
      "2         8.7\n",
      "3        25.0\n",
      "4         2.8\n",
      "         ... \n",
      "10836    53.0\n",
      "10837     3.6\n",
      "10838     9.5\n",
      "10839     NaN\n",
      "10840    19.0\n",
      "Name: Size, Length: 9659, dtype: float64 \r\n",
      "\n",
      "11.0     183\n",
      "12.0     181\n",
      "14.0     178\n",
      "13.0     177\n",
      "15.0     163\n",
      "        ... \n",
      "430.0      1\n",
      "429.0      1\n",
      "200.0      1\n",
      "460.0      1\n",
      "619.0      1\n",
      "Name: Size, Length: 420, dtype: int64\n"
     ]
    }
   ],
   "source": [
    "# Saco de los valores a k y M\n",
    "output = google_df.Size.replace(r'[kM]', '', regex=True).astype(float)\n",
    "print(output,'\\r\\n')\n",
    "print(output.value_counts())"
   ]
  },
  {
   "cell_type": "code",
   "execution_count": 18,
   "id": "6b41789b",
   "metadata": {},
   "outputs": [
    {
     "name": "stdout",
     "output_type": "stream",
     "text": [
      "0          M\n",
      "1          M\n",
      "2          M\n",
      "3          M\n",
      "4          M\n",
      "        ... \n",
      "10836      M\n",
      "10837      M\n",
      "10838      M\n",
      "10839    NaN\n",
      "10840      M\n",
      "Name: Size, Length: 9659, dtype: object \r\n",
      "\n",
      "M    8118\n",
      "k     314\n",
      "Name: Size, dtype: int64\n"
     ]
    }
   ],
   "source": [
    "#Separo los grupos\n",
    "output = google_df.Size.str.extract(r'([kM])', expand=False)\n",
    "print(output,'\\r\\n')\n",
    "print(output.value_counts())"
   ]
  },
  {
   "cell_type": "code",
   "execution_count": 19,
   "id": "d7e86595",
   "metadata": {},
   "outputs": [
    {
     "name": "stdout",
     "output_type": "stream",
     "text": [
      "0        M\n",
      "1        M\n",
      "2        M\n",
      "3        M\n",
      "4        M\n",
      "        ..\n",
      "10836    M\n",
      "10837    M\n",
      "10838    M\n",
      "10839    1\n",
      "10840    M\n",
      "Name: Size, Length: 9659, dtype: object \r\n",
      "\n",
      "M    8118\n",
      "1    1227\n",
      "k     314\n",
      "Name: Size, dtype: int64\n"
     ]
    }
   ],
   "source": [
    "output = google_df.Size.str.extract(r'([kM])', expand=False).fillna(1)\n",
    "print(output,'\\r\\n')\n",
    "print(output.value_counts())\n",
    "# Nan = 1"
   ]
  },
  {
   "cell_type": "code",
   "execution_count": 20,
   "id": "5d26a583",
   "metadata": {},
   "outputs": [
    {
     "name": "stdout",
     "output_type": "stream",
     "text": [
      "0        1.0\n",
      "1        1.0\n",
      "2        1.0\n",
      "3        1.0\n",
      "4        1.0\n",
      "        ... \n",
      "10836    1.0\n",
      "10837    1.0\n",
      "10838    1.0\n",
      "10839    1.0\n",
      "10840    1.0\n",
      "Name: Size, Length: 9659, dtype: float64 \r\n",
      "\n",
      "1.000    9345\n",
      "0.001     314\n",
      "Name: Size, dtype: int64\n"
     ]
    }
   ],
   "source": [
    "# Homogenizo las variables k y M - siendo que M = 1000k\n",
    "output = google_df.Size.str.extract(r'([kM])', expand=False).fillna(1)\\\n",
    ".replace(['k','M'], [10**-3, 1]).astype(float)\n",
    "print(output,'\\r\\n')\n",
    "print(output.value_counts())"
   ]
  },
  {
   "cell_type": "code",
   "execution_count": 21,
   "id": "b45d380c",
   "metadata": {},
   "outputs": [],
   "source": [
    "google_df.Size = (google_df.Size.replace(r'[kM]', '', regex=True).astype(float) * \\\n",
    "             google_df.Size.str.extract(r'([KM])', expand=False)\n",
    "            .fillna(1)\n",
    "            .replace(['k','M'], [10**-3, 1]).astype(float))"
   ]
  },
  {
   "cell_type": "code",
   "execution_count": 22,
   "id": "7dae5614",
   "metadata": {},
   "outputs": [
    {
     "data": {
      "text/plain": [
       "0        19.0\n",
       "1        14.0\n",
       "2         8.7\n",
       "3        25.0\n",
       "4         2.8\n",
       "         ... \n",
       "10836    53.0\n",
       "10837     3.6\n",
       "10838     9.5\n",
       "10839     NaN\n",
       "10840    19.0\n",
       "Name: Size, Length: 9659, dtype: float64"
      ]
     },
     "execution_count": 22,
     "metadata": {},
     "output_type": "execute_result"
    }
   ],
   "source": [
    "# Observamos como quedo finalmente\n",
    "google_df.Size"
   ]
  },
  {
   "cell_type": "code",
   "execution_count": 23,
   "id": "3ab481e1",
   "metadata": {},
   "outputs": [],
   "source": [
    "#Para asignarle valor a los Nan utilizo un promedio según la categoria\n",
    "google_df['Size'].fillna(google_df.groupby('Genres')['Size'].transform('mean'), inplace = True)"
   ]
  },
  {
   "cell_type": "code",
   "execution_count": 24,
   "id": "b6bace5c",
   "metadata": {},
   "outputs": [],
   "source": [
    "google_df['Size'] = google_df['Size'].astype(float)\n",
    "google_df['Installs'] = google_df['Installs'].astype(float)"
   ]
  },
  {
   "cell_type": "markdown",
   "id": "3004f79a",
   "metadata": {},
   "source": [
    "#### 'Price'"
   ]
  },
  {
   "cell_type": "code",
   "execution_count": 25,
   "id": "409c2b19",
   "metadata": {},
   "outputs": [],
   "source": [
    "# Ajustamos la variable 'Price'\n",
    "google_df['Price'] = google_df['Price'].str.replace('$', '')\n",
    "google_df['Price'] = google_df['Price'].astype(float)"
   ]
  },
  {
   "cell_type": "markdown",
   "id": "6b578fb3",
   "metadata": {},
   "source": [
    "#### 'Review'"
   ]
  },
  {
   "cell_type": "code",
   "execution_count": 26,
   "id": "e40d484b",
   "metadata": {},
   "outputs": [],
   "source": [
    "# Ajustamos la variable 'Review'\n",
    "google_df['Reviews'] = google_df['Reviews'].astype(float)"
   ]
  },
  {
   "cell_type": "markdown",
   "id": "5c384b8b",
   "metadata": {},
   "source": [
    "#### Chequeo NaNs"
   ]
  },
  {
   "cell_type": "code",
   "execution_count": 28,
   "id": "571297ac",
   "metadata": {},
   "outputs": [
    {
     "data": {
      "text/plain": [
       "App               False\n",
       "Category          False\n",
       "Rating             True\n",
       "Reviews           False\n",
       "Size               True\n",
       "Installs          False\n",
       "Type               True\n",
       "Price             False\n",
       "Content Rating    False\n",
       "Genres            False\n",
       "Last Updated      False\n",
       "Current Ver        True\n",
       "Android Ver        True\n",
       "dtype: bool"
      ]
     },
     "execution_count": 28,
     "metadata": {},
     "output_type": "execute_result"
    }
   ],
   "source": [
    "col_NaN = google_df.isnull().any()\n",
    "col_NaN"
   ]
  },
  {
   "cell_type": "code",
   "execution_count": 29,
   "id": "222a3c29",
   "metadata": {},
   "outputs": [],
   "source": [
    "total_NaN = google_df.isnull().sum().sort_values(ascending=False)\n",
    "percent = (google_df.isnull().sum()/len(google_df)).sort_values(ascending=False)"
   ]
  },
  {
   "cell_type": "code",
   "execution_count": 30,
   "id": "e9853710",
   "metadata": {},
   "outputs": [
    {
     "data": {
      "text/html": [
       "<div>\n",
       "<style scoped>\n",
       "    .dataframe tbody tr th:only-of-type {\n",
       "        vertical-align: middle;\n",
       "    }\n",
       "\n",
       "    .dataframe tbody tr th {\n",
       "        vertical-align: top;\n",
       "    }\n",
       "\n",
       "    .dataframe thead th {\n",
       "        text-align: right;\n",
       "    }\n",
       "</style>\n",
       "<table border=\"1\" class=\"dataframe\">\n",
       "  <thead>\n",
       "    <tr style=\"text-align: right;\">\n",
       "      <th></th>\n",
       "      <th>Total</th>\n",
       "      <th>Percent Missing Data</th>\n",
       "    </tr>\n",
       "  </thead>\n",
       "  <tbody>\n",
       "    <tr>\n",
       "      <th>Rating</th>\n",
       "      <td>1463</td>\n",
       "      <td>0.151465</td>\n",
       "    </tr>\n",
       "    <tr>\n",
       "      <th>Current Ver</th>\n",
       "      <td>8</td>\n",
       "      <td>0.000828</td>\n",
       "    </tr>\n",
       "    <tr>\n",
       "      <th>Size</th>\n",
       "      <td>3</td>\n",
       "      <td>0.000311</td>\n",
       "    </tr>\n",
       "    <tr>\n",
       "      <th>Android Ver</th>\n",
       "      <td>2</td>\n",
       "      <td>0.000207</td>\n",
       "    </tr>\n",
       "    <tr>\n",
       "      <th>Type</th>\n",
       "      <td>1</td>\n",
       "      <td>0.000104</td>\n",
       "    </tr>\n",
       "    <tr>\n",
       "      <th>App</th>\n",
       "      <td>0</td>\n",
       "      <td>0.000000</td>\n",
       "    </tr>\n",
       "  </tbody>\n",
       "</table>\n",
       "</div>"
      ],
      "text/plain": [
       "             Total  Percent Missing Data\n",
       "Rating        1463              0.151465\n",
       "Current Ver      8              0.000828\n",
       "Size             3              0.000311\n",
       "Android Ver      2              0.000207\n",
       "Type             1              0.000104\n",
       "App              0              0.000000"
      ]
     },
     "execution_count": 30,
     "metadata": {},
     "output_type": "execute_result"
    }
   ],
   "source": [
    "missing_data = pd.concat([total_NaN, percent], axis=1, keys=['Total', 'Percent Missing Data'])\n",
    "missing_data.head(6)"
   ]
  },
  {
   "cell_type": "code",
   "execution_count": 31,
   "id": "584c382c",
   "metadata": {},
   "outputs": [],
   "source": [
    "google_df.dropna(how='any', inplace=True)"
   ]
  },
  {
   "cell_type": "code",
   "execution_count": 32,
   "id": "4d2614f0",
   "metadata": {},
   "outputs": [
    {
     "name": "stdout",
     "output_type": "stream",
     "text": [
      "Nuestro dataframe ahora cuenta con 8187 filas y 13 columnas\n"
     ]
    }
   ],
   "source": [
    "# Chequeo final dataset\n",
    "print(f'Nuestro dataframe ahora cuenta con {google_df.shape[0]} filas y {google_df.shape[1]} columnas')"
   ]
  },
  {
   "cell_type": "markdown",
   "id": "28309c28",
   "metadata": {},
   "source": [
    "### Análisis Dataset"
   ]
  },
  {
   "cell_type": "markdown",
   "id": "4e63a7a9",
   "metadata": {},
   "source": [
    "#### • Rating"
   ]
  },
  {
   "cell_type": "code",
   "execution_count": 33,
   "id": "f00efd91",
   "metadata": {},
   "outputs": [
    {
     "data": {
      "image/png": "[encoded data removed]",
      "text/plain": [
       "<Figure size 1000x400 with 1 Axes>"
      ]
     },
     "metadata": {},
     "output_type": "display_data"
    },
    {
     "data": {
      "image/png": "[encoded data removed]",
      "text/plain": [
       "<Figure size 1000x400 with 1 Axes>"
      ]
     },
     "metadata": {},
     "output_type": "display_data"
    }
   ],
   "source": [
    "# Histograma\n",
    "plt.figure(figsize=(10,4))\n",
    "sns.histplot(data=google_df,\n",
    "             x='Rating',stat='count',kde=False)\n",
    "plt.xlabel(\"Rating\",size = 10)\n",
    "plt.ylabel(\"Cantidades\",size = 10)\n",
    "plt.title('Histograma del Rating',size = 15)\n",
    "plt.show()\n",
    "\n",
    "\n",
    "plt.figure(figsize=(10,4))\n",
    "sns.histplot(data=google_df,\n",
    "             x='Rating',stat='density',kde=True)\n",
    "plt.xlabel(\"Rating\",size = 10)\n",
    "plt.ylabel(\"Density\",size = 10)\n",
    "plt.show()"
   ]
  },
  {
   "cell_type": "code",
   "execution_count": 34,
   "id": "937e2e2d",
   "metadata": {},
   "outputs": [
    {
     "name": "stdout",
     "output_type": "stream",
     "text": [
      "\r\n",
      "Se puede observar que el rating no se distribuye de una manera normal, el rating se encuentra acumulado tendiendo a los valores más altos. La media del rating en las apps se concentra en 4.173262489312327 de 5\r\n",
      "\n"
     ]
    }
   ],
   "source": [
    "print('\\r\\nSe puede observar que el rating no se distribuye de una manera normal, el rating se encuentra acumulado tendiendo a los valores más altos. La media del rating en las apps se concentra en', google_df['Rating'].mean(), 'de 5\\r\\n') "
   ]
  },
  {
   "cell_type": "markdown",
   "id": "6f0e04dd",
   "metadata": {},
   "source": [
    "#### • Categorias"
   ]
  },
  {
   "cell_type": "code",
   "execution_count": 35,
   "id": "02e5d9fb",
   "metadata": {},
   "outputs": [
    {
     "name": "stdout",
     "output_type": "stream",
     "text": [
      "En total hay 33 categorias:\r\n",
      "\n",
      "\n",
      " ['ART_AND_DESIGN' 'AUTO_AND_VEHICLES' 'BEAUTY' 'BOOKS_AND_REFERENCE'\n",
      " 'BUSINESS' 'COMICS' 'COMMUNICATION' 'DATING' 'EDUCATION' 'ENTERTAINMENT'\n",
      " 'EVENTS' 'FINANCE' 'FOOD_AND_DRINK' 'HEALTH_AND_FITNESS' 'HOUSE_AND_HOME'\n",
      " 'LIBRARIES_AND_DEMO' 'LIFESTYLE' 'GAME' 'FAMILY' 'MEDICAL' 'SOCIAL'\n",
      " 'SHOPPING' 'PHOTOGRAPHY' 'SPORTS' 'TRAVEL_AND_LOCAL' 'TOOLS'\n",
      " 'PERSONALIZATION' 'PRODUCTIVITY' 'PARENTING' 'WEATHER' 'VIDEO_PLAYERS'\n",
      " 'NEWS_AND_MAGAZINES' 'MAPS_AND_NAVIGATION']\n"
     ]
    }
   ],
   "source": [
    "q_categorias = len(google_df['Category'].unique())\n",
    "print(f'En total hay {q_categorias} categorias:\\r\\n')\n",
    "print(\"\\n\", google_df['Category'].unique())"
   ]
  },
  {
   "cell_type": "code",
   "execution_count": 36,
   "id": "3b588915",
   "metadata": {},
   "outputs": [
    {
     "data": {
      "image/png": "[encoded data removed]",
      "text/plain": [
       "<Figure size 1500x300 with 1 Axes>"
      ]
     },
     "metadata": {},
     "output_type": "display_data"
    }
   ],
   "source": [
    "top_n = 10\n",
    "\n",
    "idx_top = google_df['Category'].value_counts(ascending=False).index[0:top_n]\n",
    "\n",
    "plt.figure(figsize=(15,3))\n",
    "\n",
    "g = sns.countplot(data=google_df,\n",
    "                  x=\"Category\",\n",
    "                  order=idx_top,\n",
    "                  palette = \"muted\")\n",
    "g.set_xticklabels(g.get_xticklabels(), rotation=90, ha=\"right\")\n",
    "plt.title('Cantidad de App por Categorias', size = 20)\n",
    "plt.xlabel(\"Categoria\", size = 20)\n",
    "plt.ylabel(\"Cantidades\", size = 20)\n",
    "plt.show()"
   ]
  },
  {
   "cell_type": "markdown",
   "id": "062144de",
   "metadata": {},
   "source": [
    "#### • Category vs Rating"
   ]
  },
  {
   "cell_type": "code",
   "execution_count": 103,
   "id": "92151f47",
   "metadata": {},
   "outputs": [
    {
     "data": {
      "image/png": "[encoded data removed]",
      "text/plain": [
       "<Figure size 1500x500 with 1 Axes>"
      ]
     },
     "metadata": {},
     "output_type": "display_data"
    }
   ],
   "source": [
    "g = sns.catplot(data=google_df,\n",
    "                x=\"Category\",y=\"Rating\", \n",
    "                kind=\"box\",\n",
    "                order=idx_top,\n",
    "                palette = \"bright\",\n",
    "                height = 5 ,aspect=3)\n",
    "\n",
    "g.despine(left=True) # Para quitar linea del Y del plot\n",
    "g.set_xticklabels(rotation=90)\n",
    "plt.xlabel(\"Categoria\",size = 10)\n",
    "plt.ylabel(\"Rating\",size = 10)\n",
    "plt.title('Boxplot de Rating VS Categorias',size = 15)\n",
    "plt.show()"
   ]
  },
  {
   "cell_type": "code",
   "execution_count": 38,
   "id": "903e43d6",
   "metadata": {},
   "outputs": [
    {
     "data": {
      "image/png": "[encoded data removed]",
      "text/plain": [
       "<Figure size 640x480 with 1 Axes>"
      ]
     },
     "metadata": {},
     "output_type": "display_data"
    }
   ],
   "source": [
    "category_select = 'LIFESTYLE'\n",
    "df_pivot = google_df[google_df['Category']==category_select]\n",
    "plt.figure()\n",
    "bxplot = plt.boxplot(df_pivot['Rating'])\n",
    "plt.show()"
   ]
  },
  {
   "cell_type": "code",
   "execution_count": 39,
   "id": "02143ad2",
   "metadata": {},
   "outputs": [
    {
     "name": "stdout",
     "output_type": "stream",
     "text": [
      "Valor de la Mediana:\r\n",
      " 4.2\r\n",
      "\n",
      "[Q1 - Q3] : [3.8 - 4.6]\r\n",
      "\n",
      "[Inferior  - Superior]: [2.6 - 5.0] \r\n",
      "\n",
      "Valores outliers:\r\n",
      "[1.7 1.9 2.3 1.8 1.6 2.  2.  1.5 2.1 2.3 2.1]\r\n",
      "\n"
     ]
    }
   ],
   "source": [
    "# Mediana\n",
    "medians = bxplot[\"medians\"][0].get_ydata()\n",
    "\n",
    "# Marcas de Boxplot\n",
    "low_limits = bxplot[\"whiskers\"][0].get_ydata()\n",
    "up_limits = bxplot[\"whiskers\"][1].get_ydata()\n",
    "\n",
    "# Valores Q1 - Q3\n",
    "Q1 =  low_limits[0]\n",
    "Q3 =  up_limits[0]\n",
    "\n",
    "# whiskers: Valores extremos de las lineas que salen del intervalo [Q1-Q3]\n",
    "low_whiskers =  low_limits[1]\n",
    "up_whiskers = up_limits[1]\n",
    "\n",
    "# Outliers = fliers: Valores mas alla de los whiskers \n",
    "outliers = bxplot[\"fliers\"][0].get_ydata()\n",
    "\n",
    "\n",
    "print(f'Valor de la Mediana:\\r\\n {medians[0]}\\r\\n')\n",
    "print(f'[Q1 - Q3] : [{Q1} - {Q3}]\\r\\n')\n",
    "print(f'[Inferior  - Superior]: [{low_whiskers} - {up_whiskers}] \\r\\n')\n",
    "print(f'Valores outliers:\\r\\n{outliers}\\r\\n')"
   ]
  },
  {
   "cell_type": "markdown",
   "id": "bd62b90d",
   "metadata": {},
   "source": [
    "#### • Reviews "
   ]
  },
  {
   "cell_type": "code",
   "execution_count": 41,
   "id": "ed49d7e5",
   "metadata": {},
   "outputs": [
    {
     "data": {
      "image/png": "[encoded data removed]",
      "text/plain": [
       "<Figure size 2000x600 with 1 Axes>"
      ]
     },
     "metadata": {},
     "output_type": "display_data"
    }
   ],
   "source": [
    "# Histograma de la cantidad de 'reviews'\n",
    "plt.figure(figsize=(20,6))\n",
    "plt.hist(np.log(1+google_df.Reviews), bins=100,color='b' ,alpha=0.5)\n",
    "plt.xlabel(\"log(Reviews)\",size = 15)\n",
    "plt.ylabel(\"Cantidades\",size = 15)\n",
    "plt.show()"
   ]
  },
  {
   "cell_type": "code",
   "execution_count": 42,
   "id": "2c769f1f",
   "metadata": {},
   "outputs": [
    {
     "data": {
      "text/html": [
       "<div>\n",
       "<style scoped>\n",
       "    .dataframe tbody tr th:only-of-type {\n",
       "        vertical-align: middle;\n",
       "    }\n",
       "\n",
       "    .dataframe tbody tr th {\n",
       "        vertical-align: top;\n",
       "    }\n",
       "\n",
       "    .dataframe thead th {\n",
       "        text-align: right;\n",
       "    }\n",
       "</style>\n",
       "<table border=\"1\" class=\"dataframe\">\n",
       "  <thead>\n",
       "    <tr style=\"text-align: right;\">\n",
       "      <th></th>\n",
       "      <th>App</th>\n",
       "      <th>Category</th>\n",
       "      <th>Rating</th>\n",
       "      <th>Reviews</th>\n",
       "      <th>Size</th>\n",
       "      <th>Installs</th>\n",
       "      <th>Type</th>\n",
       "      <th>Price</th>\n",
       "      <th>Content Rating</th>\n",
       "      <th>Genres</th>\n",
       "      <th>Last Updated</th>\n",
       "      <th>Current Ver</th>\n",
       "      <th>Android Ver</th>\n",
       "    </tr>\n",
       "  </thead>\n",
       "  <tbody>\n",
       "    <tr>\n",
       "      <th>335</th>\n",
       "      <td>Messenger – Text and Video Chat for Free</td>\n",
       "      <td>COMMUNICATION</td>\n",
       "      <td>4.0</td>\n",
       "      <td>56642847.0</td>\n",
       "      <td>59.185124</td>\n",
       "      <td>1.000000e+09</td>\n",
       "      <td>Free</td>\n",
       "      <td>0.0</td>\n",
       "      <td>Everyone</td>\n",
       "      <td>Communication</td>\n",
       "      <td>August 1, 2018</td>\n",
       "      <td>Varies with device</td>\n",
       "      <td>Varies with device</td>\n",
       "    </tr>\n",
       "    <tr>\n",
       "      <th>336</th>\n",
       "      <td>WhatsApp Messenger</td>\n",
       "      <td>COMMUNICATION</td>\n",
       "      <td>4.4</td>\n",
       "      <td>69119316.0</td>\n",
       "      <td>59.185124</td>\n",
       "      <td>1.000000e+09</td>\n",
       "      <td>Free</td>\n",
       "      <td>0.0</td>\n",
       "      <td>Everyone</td>\n",
       "      <td>Communication</td>\n",
       "      <td>August 3, 2018</td>\n",
       "      <td>Varies with device</td>\n",
       "      <td>Varies with device</td>\n",
       "    </tr>\n",
       "    <tr>\n",
       "      <th>338</th>\n",
       "      <td>Google Chrome: Fast &amp; Secure</td>\n",
       "      <td>COMMUNICATION</td>\n",
       "      <td>4.3</td>\n",
       "      <td>9642995.0</td>\n",
       "      <td>59.185124</td>\n",
       "      <td>1.000000e+09</td>\n",
       "      <td>Free</td>\n",
       "      <td>0.0</td>\n",
       "      <td>Everyone</td>\n",
       "      <td>Communication</td>\n",
       "      <td>August 1, 2018</td>\n",
       "      <td>Varies with device</td>\n",
       "      <td>Varies with device</td>\n",
       "    </tr>\n",
       "    <tr>\n",
       "      <th>342</th>\n",
       "      <td>Viber Messenger</td>\n",
       "      <td>COMMUNICATION</td>\n",
       "      <td>4.3</td>\n",
       "      <td>11334799.0</td>\n",
       "      <td>59.185124</td>\n",
       "      <td>5.000000e+08</td>\n",
       "      <td>Free</td>\n",
       "      <td>0.0</td>\n",
       "      <td>Everyone</td>\n",
       "      <td>Communication</td>\n",
       "      <td>July 18, 2018</td>\n",
       "      <td>Varies with device</td>\n",
       "      <td>Varies with device</td>\n",
       "    </tr>\n",
       "    <tr>\n",
       "      <th>351</th>\n",
       "      <td>Opera Mini - fast web browser</td>\n",
       "      <td>COMMUNICATION</td>\n",
       "      <td>4.5</td>\n",
       "      <td>5149854.0</td>\n",
       "      <td>59.185124</td>\n",
       "      <td>1.000000e+08</td>\n",
       "      <td>Free</td>\n",
       "      <td>0.0</td>\n",
       "      <td>Everyone</td>\n",
       "      <td>Communication</td>\n",
       "      <td>July 19, 2018</td>\n",
       "      <td>Varies with device</td>\n",
       "      <td>Varies with device</td>\n",
       "    </tr>\n",
       "  </tbody>\n",
       "</table>\n",
       "</div>"
      ],
      "text/plain": [
       "                                          App       Category  Rating  \\\n",
       "335  Messenger – Text and Video Chat for Free  COMMUNICATION     4.0   \n",
       "336                        WhatsApp Messenger  COMMUNICATION     4.4   \n",
       "338              Google Chrome: Fast & Secure  COMMUNICATION     4.3   \n",
       "342                           Viber Messenger  COMMUNICATION     4.3   \n",
       "351             Opera Mini - fast web browser  COMMUNICATION     4.5   \n",
       "\n",
       "        Reviews       Size      Installs  Type  Price Content Rating  \\\n",
       "335  56642847.0  59.185124  1.000000e+09  Free    0.0       Everyone   \n",
       "336  69119316.0  59.185124  1.000000e+09  Free    0.0       Everyone   \n",
       "338   9642995.0  59.185124  1.000000e+09  Free    0.0       Everyone   \n",
       "342  11334799.0  59.185124  5.000000e+08  Free    0.0       Everyone   \n",
       "351   5149854.0  59.185124  1.000000e+08  Free    0.0       Everyone   \n",
       "\n",
       "            Genres    Last Updated         Current Ver         Android Ver  \n",
       "335  Communication  August 1, 2018  Varies with device  Varies with device  \n",
       "336  Communication  August 3, 2018  Varies with device  Varies with device  \n",
       "338  Communication  August 1, 2018  Varies with device  Varies with device  \n",
       "342  Communication   July 18, 2018  Varies with device  Varies with device  \n",
       "351  Communication   July 19, 2018  Varies with device  Varies with device  "
      ]
     },
     "execution_count": 42,
     "metadata": {},
     "output_type": "execute_result"
    }
   ],
   "source": [
    "google_df[google_df.Reviews > 5000000].head()"
   ]
  },
  {
   "cell_type": "markdown",
   "id": "28c83a99",
   "metadata": {},
   "source": [
    "¿Existe relación entre las visitas y el resto de variables?"
   ]
  },
  {
   "cell_type": "code",
   "execution_count": 95,
   "id": "9f447fd3",
   "metadata": {},
   "outputs": [
    {
     "data": {
      "image/png": "[encoded data removed]",
      "text/plain": [
       "<Figure size 1400x800 with 2 Axes>"
      ]
     },
     "metadata": {},
     "output_type": "display_data"
    }
   ],
   "source": [
    "# Matriz de correlaciones\n",
    "corr = google_df.corr()\n",
    "\n",
    "f, ax = plt.subplots(figsize= (14, 8))\n",
    "ax = sns.heatmap(corr, annot=True, cmap= sns.diverging_palette(220, 1000, as_cmap=True))"
   ]
  },
  {
   "cell_type": "markdown",
   "id": "dc955231",
   "metadata": {},
   "source": [
    "• Se puede observar un alto grado de correlación entre el número de instalaciones y visitas de las aplicaciones, mientras que no se observa lo mismo entre las visitas y el resto de variables"
   ]
  },
  {
   "cell_type": "markdown",
   "id": "f31fcfeb",
   "metadata": {},
   "source": [
    "#### • Precio"
   ]
  },
  {
   "cell_type": "code",
   "execution_count": 96,
   "id": "d4ce29f1",
   "metadata": {},
   "outputs": [
    {
     "data": {
      "text/plain": [
       "count    8187.000000\n",
       "mean        1.038722\n",
       "std        16.867118\n",
       "min         0.000000\n",
       "25%         0.000000\n",
       "50%         0.000000\n",
       "75%         0.000000\n",
       "max       400.000000\n",
       "Name: Price, dtype: float64"
      ]
     },
     "execution_count": 96,
     "metadata": {},
     "output_type": "execute_result"
    }
   ],
   "source": [
    "google_df['Price'].describe()"
   ]
  },
  {
   "cell_type": "code",
   "execution_count": 97,
   "id": "88b4ae61",
   "metadata": {},
   "outputs": [
    {
     "data": {
      "text/html": [
       "<div>\n",
       "<style scoped>\n",
       "    .dataframe tbody tr th:only-of-type {\n",
       "        vertical-align: middle;\n",
       "    }\n",
       "\n",
       "    .dataframe tbody tr th {\n",
       "        vertical-align: top;\n",
       "    }\n",
       "\n",
       "    .dataframe thead th {\n",
       "        text-align: right;\n",
       "    }\n",
       "</style>\n",
       "<table border=\"1\" class=\"dataframe\">\n",
       "  <thead>\n",
       "    <tr style=\"text-align: right;\">\n",
       "      <th></th>\n",
       "      <th>App</th>\n",
       "      <th>Category</th>\n",
       "      <th>Rating</th>\n",
       "      <th>Reviews</th>\n",
       "      <th>Size</th>\n",
       "      <th>Installs</th>\n",
       "      <th>Type</th>\n",
       "      <th>Price</th>\n",
       "      <th>Content Rating</th>\n",
       "      <th>Genres</th>\n",
       "      <th>Last Updated</th>\n",
       "      <th>Current Ver</th>\n",
       "      <th>Android Ver</th>\n",
       "    </tr>\n",
       "  </thead>\n",
       "  <tbody>\n",
       "    <tr>\n",
       "      <th>4367</th>\n",
       "      <td>I'm Rich - Trump Edition</td>\n",
       "      <td>LIFESTYLE</td>\n",
       "      <td>3.6</td>\n",
       "      <td>275.0</td>\n",
       "      <td>7.3</td>\n",
       "      <td>10000.0</td>\n",
       "      <td>Paid</td>\n",
       "      <td>400.0</td>\n",
       "      <td>Everyone</td>\n",
       "      <td>Lifestyle</td>\n",
       "      <td>May 3, 2018</td>\n",
       "      <td>1.0.1</td>\n",
       "      <td>4.1 and up</td>\n",
       "    </tr>\n",
       "  </tbody>\n",
       "</table>\n",
       "</div>"
      ],
      "text/plain": [
       "                           App   Category  Rating  Reviews  Size  Installs  \\\n",
       "4367  I'm Rich - Trump Edition  LIFESTYLE     3.6    275.0   7.3   10000.0   \n",
       "\n",
       "      Type  Price Content Rating     Genres Last Updated Current Ver  \\\n",
       "4367  Paid  400.0       Everyone  Lifestyle  May 3, 2018       1.0.1   \n",
       "\n",
       "     Android Ver  \n",
       "4367  4.1 and up  "
      ]
     },
     "execution_count": 97,
     "metadata": {},
     "output_type": "execute_result"
    }
   ],
   "source": [
    "# A pesar de tener en promedio el costo de 1.03 usd hay uno de 400...\n",
    "google_df[google_df['Price'] == 400]"
   ]
  },
  {
   "cell_type": "code",
   "execution_count": 98,
   "id": "cb7e8863",
   "metadata": {},
   "outputs": [],
   "source": [
    "# Segmento los precios\n",
    "google_df.loc[ google_df['Price'] == 0, 'PriceBand'] = '0 - Free'\n",
    "google_df.loc[(google_df['Price'] > 0) & (google_df['Price'] <= 0.99), 'PriceBand'] = '1 - Muy Barato'\n",
    "google_df.loc[(google_df['Price'] > 0.99) & (google_df['Price'] <= 2.99), 'PriceBand']   = '2 - Barato'\n",
    "google_df.loc[(google_df['Price'] > 2.99) & (google_df['Price'] <= 4.99), 'PriceBand']   = '3 - Normal'\n",
    "google_df.loc[(google_df['Price'] > 4.99) & (google_df['Price'] <= 14.99), 'PriceBand']   = '4 - Caro'\n",
    "google_df.loc[(google_df['Price'] > 14.99) & (google_df['Price'] <= 29.99), 'PriceBand']   = '5 - Muy Caro'\n",
    "google_df.loc[(google_df['Price'] > 29.99), 'PriceBand']  = '6 - Excesivo'"
   ]
  },
  {
   "cell_type": "code",
   "execution_count": 99,
   "id": "803018b9",
   "metadata": {},
   "outputs": [
    {
     "data": {
      "text/html": [
       "<div>\n",
       "<style scoped>\n",
       "    .dataframe tbody tr th:only-of-type {\n",
       "        vertical-align: middle;\n",
       "    }\n",
       "\n",
       "    .dataframe tbody tr th {\n",
       "        vertical-align: top;\n",
       "    }\n",
       "\n",
       "    .dataframe thead th {\n",
       "        text-align: right;\n",
       "    }\n",
       "</style>\n",
       "<table border=\"1\" class=\"dataframe\">\n",
       "  <thead>\n",
       "    <tr style=\"text-align: right;\">\n",
       "      <th></th>\n",
       "      <th>App</th>\n",
       "      <th>Category</th>\n",
       "      <th>Rating</th>\n",
       "      <th>Reviews</th>\n",
       "      <th>Size</th>\n",
       "      <th>Installs</th>\n",
       "      <th>Type</th>\n",
       "      <th>Price</th>\n",
       "      <th>Content Rating</th>\n",
       "      <th>Genres</th>\n",
       "      <th>Last Updated</th>\n",
       "      <th>Current Ver</th>\n",
       "      <th>Android Ver</th>\n",
       "      <th>PriceBand</th>\n",
       "    </tr>\n",
       "  </thead>\n",
       "  <tbody>\n",
       "    <tr>\n",
       "      <th>0</th>\n",
       "      <td>Photo Editor &amp; Candy Camera &amp; Grid &amp; ScrapBook</td>\n",
       "      <td>ART_AND_DESIGN</td>\n",
       "      <td>4.1</td>\n",
       "      <td>159.0</td>\n",
       "      <td>19.0</td>\n",
       "      <td>10000.0</td>\n",
       "      <td>Free</td>\n",
       "      <td>0.0</td>\n",
       "      <td>Everyone</td>\n",
       "      <td>Art &amp; Design</td>\n",
       "      <td>January 7, 2018</td>\n",
       "      <td>1.0.0</td>\n",
       "      <td>4.0.3 and up</td>\n",
       "      <td>0 - Free</td>\n",
       "    </tr>\n",
       "    <tr>\n",
       "      <th>1</th>\n",
       "      <td>Coloring book moana</td>\n",
       "      <td>ART_AND_DESIGN</td>\n",
       "      <td>3.9</td>\n",
       "      <td>967.0</td>\n",
       "      <td>14.0</td>\n",
       "      <td>500000.0</td>\n",
       "      <td>Free</td>\n",
       "      <td>0.0</td>\n",
       "      <td>Everyone</td>\n",
       "      <td>Art &amp; Design;Pretend Play</td>\n",
       "      <td>January 15, 2018</td>\n",
       "      <td>2.0.0</td>\n",
       "      <td>4.0.3 and up</td>\n",
       "      <td>0 - Free</td>\n",
       "    </tr>\n",
       "    <tr>\n",
       "      <th>2</th>\n",
       "      <td>U Launcher Lite – FREE Live Cool Themes, Hide ...</td>\n",
       "      <td>ART_AND_DESIGN</td>\n",
       "      <td>4.7</td>\n",
       "      <td>87510.0</td>\n",
       "      <td>8.7</td>\n",
       "      <td>5000000.0</td>\n",
       "      <td>Free</td>\n",
       "      <td>0.0</td>\n",
       "      <td>Everyone</td>\n",
       "      <td>Art &amp; Design</td>\n",
       "      <td>August 1, 2018</td>\n",
       "      <td>1.2.4</td>\n",
       "      <td>4.0.3 and up</td>\n",
       "      <td>0 - Free</td>\n",
       "    </tr>\n",
       "    <tr>\n",
       "      <th>3</th>\n",
       "      <td>Sketch - Draw &amp; Paint</td>\n",
       "      <td>ART_AND_DESIGN</td>\n",
       "      <td>4.5</td>\n",
       "      <td>215644.0</td>\n",
       "      <td>25.0</td>\n",
       "      <td>50000000.0</td>\n",
       "      <td>Free</td>\n",
       "      <td>0.0</td>\n",
       "      <td>Teen</td>\n",
       "      <td>Art &amp; Design</td>\n",
       "      <td>June 8, 2018</td>\n",
       "      <td>Varies with device</td>\n",
       "      <td>4.2 and up</td>\n",
       "      <td>0 - Free</td>\n",
       "    </tr>\n",
       "    <tr>\n",
       "      <th>4</th>\n",
       "      <td>Pixel Draw - Number Art Coloring Book</td>\n",
       "      <td>ART_AND_DESIGN</td>\n",
       "      <td>4.3</td>\n",
       "      <td>967.0</td>\n",
       "      <td>2.8</td>\n",
       "      <td>100000.0</td>\n",
       "      <td>Free</td>\n",
       "      <td>0.0</td>\n",
       "      <td>Everyone</td>\n",
       "      <td>Art &amp; Design;Creativity</td>\n",
       "      <td>June 20, 2018</td>\n",
       "      <td>1.1</td>\n",
       "      <td>4.4 and up</td>\n",
       "      <td>0 - Free</td>\n",
       "    </tr>\n",
       "  </tbody>\n",
       "</table>\n",
       "</div>"
      ],
      "text/plain": [
       "                                                 App        Category  Rating  \\\n",
       "0     Photo Editor & Candy Camera & Grid & ScrapBook  ART_AND_DESIGN     4.1   \n",
       "1                                Coloring book moana  ART_AND_DESIGN     3.9   \n",
       "2  U Launcher Lite – FREE Live Cool Themes, Hide ...  ART_AND_DESIGN     4.7   \n",
       "3                              Sketch - Draw & Paint  ART_AND_DESIGN     4.5   \n",
       "4              Pixel Draw - Number Art Coloring Book  ART_AND_DESIGN     4.3   \n",
       "\n",
       "    Reviews  Size    Installs  Type  Price Content Rating  \\\n",
       "0     159.0  19.0     10000.0  Free    0.0       Everyone   \n",
       "1     967.0  14.0    500000.0  Free    0.0       Everyone   \n",
       "2   87510.0   8.7   5000000.0  Free    0.0       Everyone   \n",
       "3  215644.0  25.0  50000000.0  Free    0.0           Teen   \n",
       "4     967.0   2.8    100000.0  Free    0.0       Everyone   \n",
       "\n",
       "                      Genres      Last Updated         Current Ver  \\\n",
       "0               Art & Design   January 7, 2018               1.0.0   \n",
       "1  Art & Design;Pretend Play  January 15, 2018               2.0.0   \n",
       "2               Art & Design    August 1, 2018               1.2.4   \n",
       "3               Art & Design      June 8, 2018  Varies with device   \n",
       "4    Art & Design;Creativity     June 20, 2018                 1.1   \n",
       "\n",
       "    Android Ver PriceBand  \n",
       "0  4.0.3 and up  0 - Free  \n",
       "1  4.0.3 and up  0 - Free  \n",
       "2  4.0.3 and up  0 - Free  \n",
       "3    4.2 and up  0 - Free  \n",
       "4    4.4 and up  0 - Free  "
      ]
     },
     "execution_count": 99,
     "metadata": {},
     "output_type": "execute_result"
    }
   ],
   "source": [
    "google_df.head()"
   ]
  },
  {
   "cell_type": "code",
   "execution_count": 100,
   "id": "ee1a2cb7",
   "metadata": {},
   "outputs": [
    {
     "data": {
      "text/html": [
       "<div>\n",
       "<style scoped>\n",
       "    .dataframe tbody tr th:only-of-type {\n",
       "        vertical-align: middle;\n",
       "    }\n",
       "\n",
       "    .dataframe tbody tr th {\n",
       "        vertical-align: top;\n",
       "    }\n",
       "\n",
       "    .dataframe thead th {\n",
       "        text-align: right;\n",
       "    }\n",
       "</style>\n",
       "<table border=\"1\" class=\"dataframe\">\n",
       "  <thead>\n",
       "    <tr style=\"text-align: right;\">\n",
       "      <th></th>\n",
       "      <th>PriceBand</th>\n",
       "      <th>Rating</th>\n",
       "    </tr>\n",
       "  </thead>\n",
       "  <tbody>\n",
       "    <tr>\n",
       "      <th>0</th>\n",
       "      <td>0 - Free</td>\n",
       "      <td>4.166394</td>\n",
       "    </tr>\n",
       "    <tr>\n",
       "      <th>1</th>\n",
       "      <td>1 - Muy Barato</td>\n",
       "      <td>4.300971</td>\n",
       "    </tr>\n",
       "    <tr>\n",
       "      <th>2</th>\n",
       "      <td>2 - Barato</td>\n",
       "      <td>4.293220</td>\n",
       "    </tr>\n",
       "    <tr>\n",
       "      <th>3</th>\n",
       "      <td>3 - Normal</td>\n",
       "      <td>4.237838</td>\n",
       "    </tr>\n",
       "    <tr>\n",
       "      <th>4</th>\n",
       "      <td>4 - Caro</td>\n",
       "      <td>4.235897</td>\n",
       "    </tr>\n",
       "    <tr>\n",
       "      <th>5</th>\n",
       "      <td>5 - Muy Caro</td>\n",
       "      <td>4.238889</td>\n",
       "    </tr>\n",
       "    <tr>\n",
       "      <th>6</th>\n",
       "      <td>6 - Excesivo</td>\n",
       "      <td>3.910526</td>\n",
       "    </tr>\n",
       "  </tbody>\n",
       "</table>\n",
       "</div>"
      ],
      "text/plain": [
       "        PriceBand    Rating\n",
       "0        0 - Free  4.166394\n",
       "1  1 - Muy Barato  4.300971\n",
       "2      2 - Barato  4.293220\n",
       "3      3 - Normal  4.237838\n",
       "4        4 - Caro  4.235897\n",
       "5    5 - Muy Caro  4.238889\n",
       "6    6 - Excesivo  3.910526"
      ]
     },
     "execution_count": 100,
     "metadata": {},
     "output_type": "execute_result"
    }
   ],
   "source": [
    "google_df[['PriceBand', 'Rating']].groupby(['PriceBand'], as_index=False).mean()"
   ]
  },
  {
   "cell_type": "code",
   "execution_count": 102,
   "id": "126d6bf7",
   "metadata": {
    "scrolled": true
   },
   "outputs": [
    {
     "data": {
      "image/png": "[encoded data removed]",
      "text/plain": [
       "<Figure size 1500x500 with 1 Axes>"
      ]
     },
     "metadata": {},
     "output_type": "display_data"
    }
   ],
   "source": [
    "g = sns.catplot(data=google_df,\n",
    "                x=\"PriceBand\", y=\"Rating\", \n",
    "                kind=\"boxen\", # box , violin\n",
    "                height = 5,aspect=3 ,palette = \"bright\")\n",
    "g.despine(left=True)\n",
    "g.set_xticklabels(rotation=90)\n",
    "g = g.set_ylabels(\"Rating\")\n",
    "plt.title('Boxen plot Rating VS PriceBand',size = 20)\n",
    "plt.show()"
   ]
  },
  {
   "cell_type": "markdown",
   "id": "569b6fc7",
   "metadata": {},
   "source": [
    "#### • Apps gratuitas vs pagas"
   ]
  },
  {
   "cell_type": "code",
   "execution_count": 104,
   "id": "e2b1b5d7",
   "metadata": {},
   "outputs": [
    {
     "data": {
      "text/html": [
       "<div>\n",
       "<style scoped>\n",
       "    .dataframe tbody tr th:only-of-type {\n",
       "        vertical-align: middle;\n",
       "    }\n",
       "\n",
       "    .dataframe tbody tr th {\n",
       "        vertical-align: top;\n",
       "    }\n",
       "\n",
       "    .dataframe thead th {\n",
       "        text-align: right;\n",
       "    }\n",
       "</style>\n",
       "<table border=\"1\" class=\"dataframe\">\n",
       "  <thead>\n",
       "    <tr style=\"text-align: right;\">\n",
       "      <th></th>\n",
       "      <th>PriceBand</th>\n",
       "      <th>Rating</th>\n",
       "    </tr>\n",
       "  </thead>\n",
       "  <tbody>\n",
       "    <tr>\n",
       "      <th>0</th>\n",
       "      <td>0 - Free</td>\n",
       "      <td>4.166394</td>\n",
       "    </tr>\n",
       "    <tr>\n",
       "      <th>1</th>\n",
       "      <td>1 - Muy Barato</td>\n",
       "      <td>4.300971</td>\n",
       "    </tr>\n",
       "    <tr>\n",
       "      <th>2</th>\n",
       "      <td>2 - Barato</td>\n",
       "      <td>4.293220</td>\n",
       "    </tr>\n",
       "    <tr>\n",
       "      <th>3</th>\n",
       "      <td>3 - Normal</td>\n",
       "      <td>4.237838</td>\n",
       "    </tr>\n",
       "    <tr>\n",
       "      <th>4</th>\n",
       "      <td>4 - Caro</td>\n",
       "      <td>4.235897</td>\n",
       "    </tr>\n",
       "    <tr>\n",
       "      <th>5</th>\n",
       "      <td>5 - Muy Caro</td>\n",
       "      <td>4.238889</td>\n",
       "    </tr>\n",
       "    <tr>\n",
       "      <th>6</th>\n",
       "      <td>6 - Excesivo</td>\n",
       "      <td>3.910526</td>\n",
       "    </tr>\n",
       "  </tbody>\n",
       "</table>\n",
       "</div>"
      ],
      "text/plain": [
       "        PriceBand    Rating\n",
       "0        0 - Free  4.166394\n",
       "1  1 - Muy Barato  4.300971\n",
       "2      2 - Barato  4.293220\n",
       "3      3 - Normal  4.237838\n",
       "4        4 - Caro  4.235897\n",
       "5    5 - Muy Caro  4.238889\n",
       "6    6 - Excesivo  3.910526"
      ]
     },
     "execution_count": 104,
     "metadata": {},
     "output_type": "execute_result"
    }
   ],
   "source": [
    "google_df[['PriceBand', 'Rating']].groupby(['PriceBand'], as_index=False).mean()"
   ]
  },
  {
   "cell_type": "markdown",
   "id": "765df353",
   "metadata": {},
   "source": [
    "• No es posible determinar que el valor de las app sea un determinante para su rating"
   ]
  }
 ],
 "metadata": {
  "kernelspec": {
   "display_name": "Python 3 (ipykernel)",
   "language": "python",
   "name": "python3"
  },
  "language_info": {
   "codemirror_mode": {
    "name": "ipython",
    "version": 3
   },
   "file_extension": ".py",
   "mimetype": "text/x-python",
   "name": "python",
   "nbconvert_exporter": "python",
   "pygments_lexer": "ipython3",
   "version": "3.9.13"
  }
 },
 "nbformat": 4,
 "nbformat_minor": 5
}
